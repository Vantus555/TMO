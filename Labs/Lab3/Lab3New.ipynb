{
 "metadata": {
  "language_info": {
   "codemirror_mode": {
    "name": "ipython",
    "version": 3
   },
   "file_extension": ".py",
   "mimetype": "text/x-python",
   "name": "python",
   "nbconvert_exporter": "python",
   "pygments_lexer": "ipython3",
   "version": "3.8.5"
  },
  "orig_nbformat": 2,
  "kernelspec": {
   "name": "python3",
   "display_name": "Python 3.8.5 64-bit",
   "metadata": {
    "interpreter": {
     "hash": "3f8d0dab581a11bab9895babba0b16752562ac7660ee96a17eac636f46256446"
    }
   }
  }
 },
 "nbformat": 4,
 "nbformat_minor": 2,
 "cells": [
  {
   "source": [
    "# 1. Описание базы данных\n",
    "`База данных представляет собой продажи авокадо`\n",
    "\n",
    "1. `Date` - Дата\n",
    "2. `AveragePrice` - Средняя цена одного авокадо\n",
    "3. `Total Volume` - Общее количество проданных авокадо\n",
    "4. `4046` - Общее количество проданных авокадо с PLU 4046\n",
    "5. `4225` - Общее количество проданных авокадо с PLU 4225\n",
    "6. `4770` - Общее количество проданных авокадо с PLU 4770\n",
    "7. `Total Bags` - Продано мешков\n",
    "8. `Small Bags` - Маленькие мешки\n",
    "9. `Large Bags` - Большие мешки\n",
    "10. `XLarge Bags` - Огромные мешки\n",
    "11. `type` - Обычные или органические\n",
    "12. `year` - Год\n",
    "13. `region` - Город или район наблюдения\n"
   ],
   "cell_type": "markdown",
   "metadata": {}
  },
  {
   "cell_type": "code",
   "execution_count": 140,
   "metadata": {},
   "outputs": [],
   "source": [
    "from operator import itemgetter\n",
    "import matplotlib. pyplot as plt\n",
    "import matplotlib. ticker as ticker\n",
    "import numpy as np\n",
    "import pandas as pd\n",
    "import math\n",
    "from simple_kNN import *"
   ]
  },
  {
   "cell_type": "code",
   "execution_count": 141,
   "metadata": {},
   "outputs": [],
   "source": [
    "avocado = pd.read_csv('avocado.csv', sep=\",\")"
   ]
  },
  {
   "cell_type": "code",
   "execution_count": 142,
   "metadata": {},
   "outputs": [
    {
     "output_type": "execute_result",
     "data": {
      "text/plain": [
       "   Unnamed: 0        Date  AveragePrice  Total Volume     4046       4225  \\\n",
       "0           0  2015-12-27          1.33      64236.62  1036.74   54454.85   \n",
       "1           1  2015-12-20          1.35      54876.98   674.28   44638.81   \n",
       "2           2  2015-12-13          0.93     118220.22   794.70  109149.67   \n",
       "3           3  2015-12-06          1.08      78992.15  1132.00   71976.41   \n",
       "4           4  2015-11-29          1.28      51039.60   941.48   43838.39   \n",
       "5           5  2015-11-22          1.26      55979.78  1184.27   48067.99   \n",
       "6           6  2015-11-15          0.99      83453.76  1368.92   73672.72   \n",
       "7           7  2015-11-08          0.98     109428.33   703.75  101815.36   \n",
       "8           8  2015-11-01          1.02      99811.42  1022.15   87315.57   \n",
       "9           9  2015-10-25          1.07      74338.76   842.40   64757.44   \n",
       "\n",
       "     4770  Total Bags  Small Bags  Large Bags  XLarge Bags          type  \\\n",
       "0   48.16     8696.87     8603.62       93.25          0.0  conventional   \n",
       "1   58.33     9505.56     9408.07       97.49          0.0  conventional   \n",
       "2  130.50     8145.35     8042.21      103.14          0.0  conventional   \n",
       "3   72.58     5811.16     5677.40      133.76          0.0  conventional   \n",
       "4   75.78     6183.95     5986.26      197.69          0.0  conventional   \n",
       "5   43.61     6683.91     6556.47      127.44          0.0  conventional   \n",
       "6   93.26     8318.86     8196.81      122.05          0.0  conventional   \n",
       "7   80.00     6829.22     6266.85      562.37          0.0  conventional   \n",
       "8   85.34    11388.36    11104.53      283.83          0.0  conventional   \n",
       "9  113.00     8625.92     8061.47      564.45          0.0  conventional   \n",
       "\n",
       "   year  region  \n",
       "0  2015  Albany  \n",
       "1  2015  Albany  \n",
       "2  2015  Albany  \n",
       "3  2015  Albany  \n",
       "4  2015  Albany  \n",
       "5  2015  Albany  \n",
       "6  2015  Albany  \n",
       "7  2015  Albany  \n",
       "8  2015  Albany  \n",
       "9  2015  Albany  "
      ],
      "text/html": "<div>\n<style scoped>\n    .dataframe tbody tr th:only-of-type {\n        vertical-align: middle;\n    }\n\n    .dataframe tbody tr th {\n        vertical-align: top;\n    }\n\n    .dataframe thead th {\n        text-align: right;\n    }\n</style>\n<table border=\"1\" class=\"dataframe\">\n  <thead>\n    <tr style=\"text-align: right;\">\n      <th></th>\n      <th>Unnamed: 0</th>\n      <th>Date</th>\n      <th>AveragePrice</th>\n      <th>Total Volume</th>\n      <th>4046</th>\n      <th>4225</th>\n      <th>4770</th>\n      <th>Total Bags</th>\n      <th>Small Bags</th>\n      <th>Large Bags</th>\n      <th>XLarge Bags</th>\n      <th>type</th>\n      <th>year</th>\n      <th>region</th>\n    </tr>\n  </thead>\n  <tbody>\n    <tr>\n      <th>0</th>\n      <td>0</td>\n      <td>2015-12-27</td>\n      <td>1.33</td>\n      <td>64236.62</td>\n      <td>1036.74</td>\n      <td>54454.85</td>\n      <td>48.16</td>\n      <td>8696.87</td>\n      <td>8603.62</td>\n      <td>93.25</td>\n      <td>0.0</td>\n      <td>conventional</td>\n      <td>2015</td>\n      <td>Albany</td>\n    </tr>\n    <tr>\n      <th>1</th>\n      <td>1</td>\n      <td>2015-12-20</td>\n      <td>1.35</td>\n      <td>54876.98</td>\n      <td>674.28</td>\n      <td>44638.81</td>\n      <td>58.33</td>\n      <td>9505.56</td>\n      <td>9408.07</td>\n      <td>97.49</td>\n      <td>0.0</td>\n      <td>conventional</td>\n      <td>2015</td>\n      <td>Albany</td>\n    </tr>\n    <tr>\n      <th>2</th>\n      <td>2</td>\n      <td>2015-12-13</td>\n      <td>0.93</td>\n      <td>118220.22</td>\n      <td>794.70</td>\n      <td>109149.67</td>\n      <td>130.50</td>\n      <td>8145.35</td>\n      <td>8042.21</td>\n      <td>103.14</td>\n      <td>0.0</td>\n      <td>conventional</td>\n      <td>2015</td>\n      <td>Albany</td>\n    </tr>\n    <tr>\n      <th>3</th>\n      <td>3</td>\n      <td>2015-12-06</td>\n      <td>1.08</td>\n      <td>78992.15</td>\n      <td>1132.00</td>\n      <td>71976.41</td>\n      <td>72.58</td>\n      <td>5811.16</td>\n      <td>5677.40</td>\n      <td>133.76</td>\n      <td>0.0</td>\n      <td>conventional</td>\n      <td>2015</td>\n      <td>Albany</td>\n    </tr>\n    <tr>\n      <th>4</th>\n      <td>4</td>\n      <td>2015-11-29</td>\n      <td>1.28</td>\n      <td>51039.60</td>\n      <td>941.48</td>\n      <td>43838.39</td>\n      <td>75.78</td>\n      <td>6183.95</td>\n      <td>5986.26</td>\n      <td>197.69</td>\n      <td>0.0</td>\n      <td>conventional</td>\n      <td>2015</td>\n      <td>Albany</td>\n    </tr>\n    <tr>\n      <th>5</th>\n      <td>5</td>\n      <td>2015-11-22</td>\n      <td>1.26</td>\n      <td>55979.78</td>\n      <td>1184.27</td>\n      <td>48067.99</td>\n      <td>43.61</td>\n      <td>6683.91</td>\n      <td>6556.47</td>\n      <td>127.44</td>\n      <td>0.0</td>\n      <td>conventional</td>\n      <td>2015</td>\n      <td>Albany</td>\n    </tr>\n    <tr>\n      <th>6</th>\n      <td>6</td>\n      <td>2015-11-15</td>\n      <td>0.99</td>\n      <td>83453.76</td>\n      <td>1368.92</td>\n      <td>73672.72</td>\n      <td>93.26</td>\n      <td>8318.86</td>\n      <td>8196.81</td>\n      <td>122.05</td>\n      <td>0.0</td>\n      <td>conventional</td>\n      <td>2015</td>\n      <td>Albany</td>\n    </tr>\n    <tr>\n      <th>7</th>\n      <td>7</td>\n      <td>2015-11-08</td>\n      <td>0.98</td>\n      <td>109428.33</td>\n      <td>703.75</td>\n      <td>101815.36</td>\n      <td>80.00</td>\n      <td>6829.22</td>\n      <td>6266.85</td>\n      <td>562.37</td>\n      <td>0.0</td>\n      <td>conventional</td>\n      <td>2015</td>\n      <td>Albany</td>\n    </tr>\n    <tr>\n      <th>8</th>\n      <td>8</td>\n      <td>2015-11-01</td>\n      <td>1.02</td>\n      <td>99811.42</td>\n      <td>1022.15</td>\n      <td>87315.57</td>\n      <td>85.34</td>\n      <td>11388.36</td>\n      <td>11104.53</td>\n      <td>283.83</td>\n      <td>0.0</td>\n      <td>conventional</td>\n      <td>2015</td>\n      <td>Albany</td>\n    </tr>\n    <tr>\n      <th>9</th>\n      <td>9</td>\n      <td>2015-10-25</td>\n      <td>1.07</td>\n      <td>74338.76</td>\n      <td>842.40</td>\n      <td>64757.44</td>\n      <td>113.00</td>\n      <td>8625.92</td>\n      <td>8061.47</td>\n      <td>564.45</td>\n      <td>0.0</td>\n      <td>conventional</td>\n      <td>2015</td>\n      <td>Albany</td>\n    </tr>\n  </tbody>\n</table>\n</div>"
     },
     "metadata": {},
     "execution_count": 142
    }
   ],
   "source": [
    "avocado.head(10)"
   ]
  },
  {
   "cell_type": "code",
   "execution_count": 143,
   "metadata": {},
   "outputs": [
    {
     "output_type": "execute_result",
     "data": {
      "text/plain": [
       "         Unnamed: 0  AveragePrice  Total Volume          4046          4225  \\\n",
       "count  18249.000000  18249.000000  1.824900e+04  1.824900e+04  1.824900e+04   \n",
       "mean      24.232232      1.405978  8.506440e+05  2.930084e+05  2.951546e+05   \n",
       "std       15.481045      0.402677  3.453545e+06  1.264989e+06  1.204120e+06   \n",
       "min        0.000000      0.440000  8.456000e+01  0.000000e+00  0.000000e+00   \n",
       "25%       10.000000      1.100000  1.083858e+04  8.540700e+02  3.008780e+03   \n",
       "50%       24.000000      1.370000  1.073768e+05  8.645300e+03  2.906102e+04   \n",
       "75%       38.000000      1.660000  4.329623e+05  1.110202e+05  1.502069e+05   \n",
       "max       52.000000      3.250000  6.250565e+07  2.274362e+07  2.047057e+07   \n",
       "\n",
       "               4770    Total Bags    Small Bags    Large Bags    XLarge Bags  \\\n",
       "count  1.824900e+04  1.824900e+04  1.824900e+04  1.824900e+04   18249.000000   \n",
       "mean   2.283974e+04  2.396392e+05  1.821947e+05  5.433809e+04    3106.426507   \n",
       "std    1.074641e+05  9.862424e+05  7.461785e+05  2.439660e+05   17692.894652   \n",
       "min    0.000000e+00  0.000000e+00  0.000000e+00  0.000000e+00       0.000000   \n",
       "25%    0.000000e+00  5.088640e+03  2.849420e+03  1.274700e+02       0.000000   \n",
       "50%    1.849900e+02  3.974383e+04  2.636282e+04  2.647710e+03       0.000000   \n",
       "75%    6.243420e+03  1.107834e+05  8.333767e+04  2.202925e+04     132.500000   \n",
       "max    2.546439e+06  1.937313e+07  1.338459e+07  5.719097e+06  551693.650000   \n",
       "\n",
       "               year  \n",
       "count  18249.000000  \n",
       "mean    2016.147899  \n",
       "std        0.939938  \n",
       "min     2015.000000  \n",
       "25%     2015.000000  \n",
       "50%     2016.000000  \n",
       "75%     2017.000000  \n",
       "max     2018.000000  "
      ],
      "text/html": "<div>\n<style scoped>\n    .dataframe tbody tr th:only-of-type {\n        vertical-align: middle;\n    }\n\n    .dataframe tbody tr th {\n        vertical-align: top;\n    }\n\n    .dataframe thead th {\n        text-align: right;\n    }\n</style>\n<table border=\"1\" class=\"dataframe\">\n  <thead>\n    <tr style=\"text-align: right;\">\n      <th></th>\n      <th>Unnamed: 0</th>\n      <th>AveragePrice</th>\n      <th>Total Volume</th>\n      <th>4046</th>\n      <th>4225</th>\n      <th>4770</th>\n      <th>Total Bags</th>\n      <th>Small Bags</th>\n      <th>Large Bags</th>\n      <th>XLarge Bags</th>\n      <th>year</th>\n    </tr>\n  </thead>\n  <tbody>\n    <tr>\n      <th>count</th>\n      <td>18249.000000</td>\n      <td>18249.000000</td>\n      <td>1.824900e+04</td>\n      <td>1.824900e+04</td>\n      <td>1.824900e+04</td>\n      <td>1.824900e+04</td>\n      <td>1.824900e+04</td>\n      <td>1.824900e+04</td>\n      <td>1.824900e+04</td>\n      <td>18249.000000</td>\n      <td>18249.000000</td>\n    </tr>\n    <tr>\n      <th>mean</th>\n      <td>24.232232</td>\n      <td>1.405978</td>\n      <td>8.506440e+05</td>\n      <td>2.930084e+05</td>\n      <td>2.951546e+05</td>\n      <td>2.283974e+04</td>\n      <td>2.396392e+05</td>\n      <td>1.821947e+05</td>\n      <td>5.433809e+04</td>\n      <td>3106.426507</td>\n      <td>2016.147899</td>\n    </tr>\n    <tr>\n      <th>std</th>\n      <td>15.481045</td>\n      <td>0.402677</td>\n      <td>3.453545e+06</td>\n      <td>1.264989e+06</td>\n      <td>1.204120e+06</td>\n      <td>1.074641e+05</td>\n      <td>9.862424e+05</td>\n      <td>7.461785e+05</td>\n      <td>2.439660e+05</td>\n      <td>17692.894652</td>\n      <td>0.939938</td>\n    </tr>\n    <tr>\n      <th>min</th>\n      <td>0.000000</td>\n      <td>0.440000</td>\n      <td>8.456000e+01</td>\n      <td>0.000000e+00</td>\n      <td>0.000000e+00</td>\n      <td>0.000000e+00</td>\n      <td>0.000000e+00</td>\n      <td>0.000000e+00</td>\n      <td>0.000000e+00</td>\n      <td>0.000000</td>\n      <td>2015.000000</td>\n    </tr>\n    <tr>\n      <th>25%</th>\n      <td>10.000000</td>\n      <td>1.100000</td>\n      <td>1.083858e+04</td>\n      <td>8.540700e+02</td>\n      <td>3.008780e+03</td>\n      <td>0.000000e+00</td>\n      <td>5.088640e+03</td>\n      <td>2.849420e+03</td>\n      <td>1.274700e+02</td>\n      <td>0.000000</td>\n      <td>2015.000000</td>\n    </tr>\n    <tr>\n      <th>50%</th>\n      <td>24.000000</td>\n      <td>1.370000</td>\n      <td>1.073768e+05</td>\n      <td>8.645300e+03</td>\n      <td>2.906102e+04</td>\n      <td>1.849900e+02</td>\n      <td>3.974383e+04</td>\n      <td>2.636282e+04</td>\n      <td>2.647710e+03</td>\n      <td>0.000000</td>\n      <td>2016.000000</td>\n    </tr>\n    <tr>\n      <th>75%</th>\n      <td>38.000000</td>\n      <td>1.660000</td>\n      <td>4.329623e+05</td>\n      <td>1.110202e+05</td>\n      <td>1.502069e+05</td>\n      <td>6.243420e+03</td>\n      <td>1.107834e+05</td>\n      <td>8.333767e+04</td>\n      <td>2.202925e+04</td>\n      <td>132.500000</td>\n      <td>2017.000000</td>\n    </tr>\n    <tr>\n      <th>max</th>\n      <td>52.000000</td>\n      <td>3.250000</td>\n      <td>6.250565e+07</td>\n      <td>2.274362e+07</td>\n      <td>2.047057e+07</td>\n      <td>2.546439e+06</td>\n      <td>1.937313e+07</td>\n      <td>1.338459e+07</td>\n      <td>5.719097e+06</td>\n      <td>551693.650000</td>\n      <td>2018.000000</td>\n    </tr>\n  </tbody>\n</table>\n</div>"
     },
     "metadata": {},
     "execution_count": 143
    }
   ],
   "source": [
    "avocado.describe()"
   ]
  },
  {
   "cell_type": "code",
   "execution_count": 144,
   "metadata": {},
   "outputs": [],
   "source": [
    "# Регресси по XLarge Bags\n",
    "def regr_to_class(y: float) -> str:\n",
    "    if   y < 100000:\n",
    "        result = '0'\n",
    "    elif y < 200000:\n",
    "        result = '1'\n",
    "    elif y < 400000:\n",
    "        result = '2'\n",
    "    else:\n",
    "        result = '3'\n",
    "    return result"
   ]
  },
  {
   "source": [
    "# Формирование целевого признака"
   ],
   "cell_type": "markdown",
   "metadata": {}
  },
  {
   "cell_type": "code",
   "execution_count": 145,
   "metadata": {},
   "outputs": [],
   "source": [
    "avocado1 = avocado\n",
    "\n",
    "avocado1['XLarge_class'] = \\\n",
    "avocado1.apply(lambda row: regr_to_class(row['XLarge Bags']), axis=1)"
   ]
  },
  {
   "cell_type": "code",
   "execution_count": 146,
   "metadata": {},
   "outputs": [
    {
     "output_type": "execute_result",
     "data": {
      "text/plain": [
       "      Unnamed: 0        Date  AveragePrice  Total Volume         4046  \\\n",
       "2341           1  2015-12-20          0.81    4565207.85   2166801.03   \n",
       "2652           0  2015-12-27          0.95   27297983.67   9626901.09   \n",
       "2653           1  2015-12-20          0.98   25083647.17   8710021.76   \n",
       "3612          24  2016-07-10          1.24    3327062.20    478536.66   \n",
       "3613          25  2016-07-03          1.13    4020724.58    574425.88   \n",
       "...          ...         ...           ...           ...          ...   \n",
       "9097           7  2018-02-04          0.87   62505646.52  21620180.90   \n",
       "9098           8  2018-01-28          1.09   40171640.84  14551799.50   \n",
       "9099           9  2018-01-21          1.08   42939821.55  14218843.83   \n",
       "9100          10  2018-01-14          1.20   37299945.22  12600918.24   \n",
       "9101          11  2018-01-07          1.13   36703156.72  13730992.75   \n",
       "\n",
       "             4225        4770   Total Bags   Small Bags  Large Bags  \\\n",
       "2341   1226508.86   412828.75    759069.21    555356.92    95639.50   \n",
       "2652  10197890.05  1184340.09   6288852.44   4850404.09  1252626.31   \n",
       "2653   9329861.85  1201020.01   5842743.55   4618389.66  1025048.77   \n",
       "3612   1500516.86   328564.87   1019443.81    686496.96   228290.63   \n",
       "3613   1781703.48   367119.34   1297475.88    930189.98   261535.63   \n",
       "...           ...         ...          ...          ...         ...   \n",
       "9097  20445501.03  1066830.22  19373134.37  13384586.80  5719096.61   \n",
       "9098  12119884.61   575974.74  12923981.99   9749412.19  3041125.42   \n",
       "9099  13929702.12   928815.12  13862460.48   9866218.28  3789722.90   \n",
       "9100  11866197.84   652808.40  12180020.74   8128241.88  3917569.95   \n",
       "9101  10781339.21   677714.86  11513109.90   8231766.23  3130919.10   \n",
       "\n",
       "      XLarge Bags          type  year        region XLarge_class  \n",
       "2341    108072.79  conventional  2015  SouthCentral            1  \n",
       "2652    185822.04  conventional  2015       TotalUS            1  \n",
       "2653    199305.12  conventional  2015       TotalUS            1  \n",
       "3612    104656.22  conventional  2016    GreatLakes            1  \n",
       "3613    105750.27  conventional  2016    GreatLakes            1  \n",
       "...           ...           ...   ...           ...          ...  \n",
       "9097    269450.96  conventional  2018       TotalUS            2  \n",
       "9098    133444.38  conventional  2018       TotalUS            1  \n",
       "9099    206519.30  conventional  2018       TotalUS            2  \n",
       "9100    134208.91  conventional  2018       TotalUS            1  \n",
       "9101    150424.57  conventional  2018       TotalUS            1  \n",
       "\n",
       "[87 rows x 15 columns]"
      ],
      "text/html": "<div>\n<style scoped>\n    .dataframe tbody tr th:only-of-type {\n        vertical-align: middle;\n    }\n\n    .dataframe tbody tr th {\n        vertical-align: top;\n    }\n\n    .dataframe thead th {\n        text-align: right;\n    }\n</style>\n<table border=\"1\" class=\"dataframe\">\n  <thead>\n    <tr style=\"text-align: right;\">\n      <th></th>\n      <th>Unnamed: 0</th>\n      <th>Date</th>\n      <th>AveragePrice</th>\n      <th>Total Volume</th>\n      <th>4046</th>\n      <th>4225</th>\n      <th>4770</th>\n      <th>Total Bags</th>\n      <th>Small Bags</th>\n      <th>Large Bags</th>\n      <th>XLarge Bags</th>\n      <th>type</th>\n      <th>year</th>\n      <th>region</th>\n      <th>XLarge_class</th>\n    </tr>\n  </thead>\n  <tbody>\n    <tr>\n      <th>2341</th>\n      <td>1</td>\n      <td>2015-12-20</td>\n      <td>0.81</td>\n      <td>4565207.85</td>\n      <td>2166801.03</td>\n      <td>1226508.86</td>\n      <td>412828.75</td>\n      <td>759069.21</td>\n      <td>555356.92</td>\n      <td>95639.50</td>\n      <td>108072.79</td>\n      <td>conventional</td>\n      <td>2015</td>\n      <td>SouthCentral</td>\n      <td>1</td>\n    </tr>\n    <tr>\n      <th>2652</th>\n      <td>0</td>\n      <td>2015-12-27</td>\n      <td>0.95</td>\n      <td>27297983.67</td>\n      <td>9626901.09</td>\n      <td>10197890.05</td>\n      <td>1184340.09</td>\n      <td>6288852.44</td>\n      <td>4850404.09</td>\n      <td>1252626.31</td>\n      <td>185822.04</td>\n      <td>conventional</td>\n      <td>2015</td>\n      <td>TotalUS</td>\n      <td>1</td>\n    </tr>\n    <tr>\n      <th>2653</th>\n      <td>1</td>\n      <td>2015-12-20</td>\n      <td>0.98</td>\n      <td>25083647.17</td>\n      <td>8710021.76</td>\n      <td>9329861.85</td>\n      <td>1201020.01</td>\n      <td>5842743.55</td>\n      <td>4618389.66</td>\n      <td>1025048.77</td>\n      <td>199305.12</td>\n      <td>conventional</td>\n      <td>2015</td>\n      <td>TotalUS</td>\n      <td>1</td>\n    </tr>\n    <tr>\n      <th>3612</th>\n      <td>24</td>\n      <td>2016-07-10</td>\n      <td>1.24</td>\n      <td>3327062.20</td>\n      <td>478536.66</td>\n      <td>1500516.86</td>\n      <td>328564.87</td>\n      <td>1019443.81</td>\n      <td>686496.96</td>\n      <td>228290.63</td>\n      <td>104656.22</td>\n      <td>conventional</td>\n      <td>2016</td>\n      <td>GreatLakes</td>\n      <td>1</td>\n    </tr>\n    <tr>\n      <th>3613</th>\n      <td>25</td>\n      <td>2016-07-03</td>\n      <td>1.13</td>\n      <td>4020724.58</td>\n      <td>574425.88</td>\n      <td>1781703.48</td>\n      <td>367119.34</td>\n      <td>1297475.88</td>\n      <td>930189.98</td>\n      <td>261535.63</td>\n      <td>105750.27</td>\n      <td>conventional</td>\n      <td>2016</td>\n      <td>GreatLakes</td>\n      <td>1</td>\n    </tr>\n    <tr>\n      <th>...</th>\n      <td>...</td>\n      <td>...</td>\n      <td>...</td>\n      <td>...</td>\n      <td>...</td>\n      <td>...</td>\n      <td>...</td>\n      <td>...</td>\n      <td>...</td>\n      <td>...</td>\n      <td>...</td>\n      <td>...</td>\n      <td>...</td>\n      <td>...</td>\n      <td>...</td>\n    </tr>\n    <tr>\n      <th>9097</th>\n      <td>7</td>\n      <td>2018-02-04</td>\n      <td>0.87</td>\n      <td>62505646.52</td>\n      <td>21620180.90</td>\n      <td>20445501.03</td>\n      <td>1066830.22</td>\n      <td>19373134.37</td>\n      <td>13384586.80</td>\n      <td>5719096.61</td>\n      <td>269450.96</td>\n      <td>conventional</td>\n      <td>2018</td>\n      <td>TotalUS</td>\n      <td>2</td>\n    </tr>\n    <tr>\n      <th>9098</th>\n      <td>8</td>\n      <td>2018-01-28</td>\n      <td>1.09</td>\n      <td>40171640.84</td>\n      <td>14551799.50</td>\n      <td>12119884.61</td>\n      <td>575974.74</td>\n      <td>12923981.99</td>\n      <td>9749412.19</td>\n      <td>3041125.42</td>\n      <td>133444.38</td>\n      <td>conventional</td>\n      <td>2018</td>\n      <td>TotalUS</td>\n      <td>1</td>\n    </tr>\n    <tr>\n      <th>9099</th>\n      <td>9</td>\n      <td>2018-01-21</td>\n      <td>1.08</td>\n      <td>42939821.55</td>\n      <td>14218843.83</td>\n      <td>13929702.12</td>\n      <td>928815.12</td>\n      <td>13862460.48</td>\n      <td>9866218.28</td>\n      <td>3789722.90</td>\n      <td>206519.30</td>\n      <td>conventional</td>\n      <td>2018</td>\n      <td>TotalUS</td>\n      <td>2</td>\n    </tr>\n    <tr>\n      <th>9100</th>\n      <td>10</td>\n      <td>2018-01-14</td>\n      <td>1.20</td>\n      <td>37299945.22</td>\n      <td>12600918.24</td>\n      <td>11866197.84</td>\n      <td>652808.40</td>\n      <td>12180020.74</td>\n      <td>8128241.88</td>\n      <td>3917569.95</td>\n      <td>134208.91</td>\n      <td>conventional</td>\n      <td>2018</td>\n      <td>TotalUS</td>\n      <td>1</td>\n    </tr>\n    <tr>\n      <th>9101</th>\n      <td>11</td>\n      <td>2018-01-07</td>\n      <td>1.13</td>\n      <td>36703156.72</td>\n      <td>13730992.75</td>\n      <td>10781339.21</td>\n      <td>677714.86</td>\n      <td>11513109.90</td>\n      <td>8231766.23</td>\n      <td>3130919.10</td>\n      <td>150424.57</td>\n      <td>conventional</td>\n      <td>2018</td>\n      <td>TotalUS</td>\n      <td>1</td>\n    </tr>\n  </tbody>\n</table>\n<p>87 rows × 15 columns</p>\n</div>"
     },
     "metadata": {},
     "execution_count": 146
    }
   ],
   "source": [
    "avocado1[avocado1['XLarge Bags'] > 100000]"
   ]
  },
  {
   "source": [
    "## Классификация"
   ],
   "cell_type": "markdown",
   "metadata": {}
  },
  {
   "cell_type": "code",
   "execution_count": 147,
   "metadata": {},
   "outputs": [],
   "source": [
    "from sklearn.datasets import *\n",
    "from typing import Dict, Tuple\n",
    "from scipy import stats\n",
    "from sklearn.neighbors import KNeighborsRegressor, KNeighborsClassifier\n",
    "from sklearn.metrics import accuracy_score, balanced_accuracy_score\n",
    "from sklearn.metrics import plot_confusion_matrix\n",
    "from sklearn.metrics import precision_score, recall_score, f1_score\n",
    "from sklearn.metrics import confusion_matrix\n",
    "from sklearn.metrics import mean_absolute_error, mean_squared_error\n",
    "from sklearn.metrics import roc_curve, roc_auc_score, classification_report\n",
    "import seaborn as sns\n",
    "import matplotlib. pyplot as plt\n",
    "%matplotlib inline\n",
    "sns. set(style=\"ticks\")"
   ]
  },
  {
   "cell_type": "code",
   "execution_count": 148,
   "metadata": {},
   "outputs": [],
   "source": [
    "kNc = KNeighborsClassifier(n_neighbors=2)"
   ]
  },
  {
   "cell_type": "code",
   "execution_count": 149,
   "metadata": {},
   "outputs": [],
   "source": [
    "train_x, test_x, train_y, test_y = train_test_split(avocado1[['XLarge Bags']], avocado1['XLarge_class'], test_size=0.5, random_state=1)"
   ]
  },
  {
   "cell_type": "code",
   "execution_count": 150,
   "metadata": {},
   "outputs": [
    {
     "output_type": "execute_result",
     "data": {
      "text/plain": [
       "(9125, array(['0', '0', '0', ..., '0', '0', '0'], dtype=object))"
      ]
     },
     "metadata": {},
     "execution_count": 150
    }
   ],
   "source": [
    "kNc.fit(train_x, train_y)\n",
    "target1 = kNc.predict(test_x)\n",
    "len(target1), target1"
   ]
  },
  {
   "cell_type": "code",
   "execution_count": 151,
   "metadata": {},
   "outputs": [
    {
     "output_type": "execute_result",
     "data": {
      "text/plain": [
       "0.9993424657534247"
      ]
     },
     "metadata": {},
     "execution_count": 151
    }
   ],
   "source": [
    "accuracy_score(test_y, target1)"
   ]
  },
  {
   "cell_type": "code",
   "execution_count": null,
   "metadata": {},
   "outputs": [],
   "source": []
  }
 ]
}