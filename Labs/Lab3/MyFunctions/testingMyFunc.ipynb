{
 "metadata": {
  "language_info": {
   "codemirror_mode": {
    "name": "ipython",
    "version": 3
   },
   "file_extension": ".py",
   "mimetype": "text/x-python",
   "name": "python",
   "nbconvert_exporter": "python",
   "pygments_lexer": "ipython3",
   "version": "3.8.5"
  },
  "orig_nbformat": 2,
  "kernelspec": {
   "name": "python3",
   "display_name": "Python 3.8.5 64-bit",
   "metadata": {
    "interpreter": {
     "hash": "3f8d0dab581a11bab9895babba0b16752562ac7660ee96a17eac636f46256446"
    }
   }
  }
 },
 "nbformat": 4,
 "nbformat_minor": 2,
 "cells": [
  {
   "cell_type": "code",
   "execution_count": 121,
   "metadata": {},
   "outputs": [],
   "source": [
    "from Classes.KNN import *\n",
    "import numpy as np\n",
    "import pandas as pd\n",
    "import matplotlib. pyplot as plt"
   ]
  },
  {
   "cell_type": "code",
   "execution_count": 122,
   "metadata": {},
   "outputs": [
    {
     "output_type": "execute_result",
     "data": {
      "text/plain": [
       "     price           type\n",
       "0    37315        Средние\n",
       "1    49039        Средние\n",
       "2    44533        Средние\n",
       "3    78715        Дорогие\n",
       "4    85338        Дорогие\n",
       "5   119476  Очень дорогие\n",
       "6    97366        Дорогие\n",
       "7   106198  Очень дорогие\n",
       "8    76250        Дорогие\n",
       "9    19338      Бюджетные\n",
       "10    6050      Бюджетные\n",
       "11   34062        Средние\n",
       "12  122661  Очень дорогие\n",
       "13   66177        Дорогие\n",
       "14   39469        Средние\n",
       "15   34995        Средние\n",
       "16   66091        Дорогие\n",
       "17   38879        Средние\n",
       "18   54084        Средние\n",
       "19   71041        Дорогие\n",
       "20   90802        Дорогие\n",
       "21   99215        Дорогие\n",
       "22  116249  Очень дорогие\n",
       "23   97276        Дорогие\n",
       "24   43216        Средние\n",
       "25  106619  Очень дорогие\n",
       "26   32657        Средние\n",
       "27   38198        Средние\n",
       "28    6513      Бюджетные\n",
       "29  120942  Очень дорогие"
      ],
      "text/html": "<div>\n<style scoped>\n    .dataframe tbody tr th:only-of-type {\n        vertical-align: middle;\n    }\n\n    .dataframe tbody tr th {\n        vertical-align: top;\n    }\n\n    .dataframe thead th {\n        text-align: right;\n    }\n</style>\n<table border=\"1\" class=\"dataframe\">\n  <thead>\n    <tr style=\"text-align: right;\">\n      <th></th>\n      <th>price</th>\n      <th>type</th>\n    </tr>\n  </thead>\n  <tbody>\n    <tr>\n      <th>0</th>\n      <td>37315</td>\n      <td>Средние</td>\n    </tr>\n    <tr>\n      <th>1</th>\n      <td>49039</td>\n      <td>Средние</td>\n    </tr>\n    <tr>\n      <th>2</th>\n      <td>44533</td>\n      <td>Средние</td>\n    </tr>\n    <tr>\n      <th>3</th>\n      <td>78715</td>\n      <td>Дорогие</td>\n    </tr>\n    <tr>\n      <th>4</th>\n      <td>85338</td>\n      <td>Дорогие</td>\n    </tr>\n    <tr>\n      <th>5</th>\n      <td>119476</td>\n      <td>Очень дорогие</td>\n    </tr>\n    <tr>\n      <th>6</th>\n      <td>97366</td>\n      <td>Дорогие</td>\n    </tr>\n    <tr>\n      <th>7</th>\n      <td>106198</td>\n      <td>Очень дорогие</td>\n    </tr>\n    <tr>\n      <th>8</th>\n      <td>76250</td>\n      <td>Дорогие</td>\n    </tr>\n    <tr>\n      <th>9</th>\n      <td>19338</td>\n      <td>Бюджетные</td>\n    </tr>\n    <tr>\n      <th>10</th>\n      <td>6050</td>\n      <td>Бюджетные</td>\n    </tr>\n    <tr>\n      <th>11</th>\n      <td>34062</td>\n      <td>Средние</td>\n    </tr>\n    <tr>\n      <th>12</th>\n      <td>122661</td>\n      <td>Очень дорогие</td>\n    </tr>\n    <tr>\n      <th>13</th>\n      <td>66177</td>\n      <td>Дорогие</td>\n    </tr>\n    <tr>\n      <th>14</th>\n      <td>39469</td>\n      <td>Средние</td>\n    </tr>\n    <tr>\n      <th>15</th>\n      <td>34995</td>\n      <td>Средние</td>\n    </tr>\n    <tr>\n      <th>16</th>\n      <td>66091</td>\n      <td>Дорогие</td>\n    </tr>\n    <tr>\n      <th>17</th>\n      <td>38879</td>\n      <td>Средние</td>\n    </tr>\n    <tr>\n      <th>18</th>\n      <td>54084</td>\n      <td>Средние</td>\n    </tr>\n    <tr>\n      <th>19</th>\n      <td>71041</td>\n      <td>Дорогие</td>\n    </tr>\n    <tr>\n      <th>20</th>\n      <td>90802</td>\n      <td>Дорогие</td>\n    </tr>\n    <tr>\n      <th>21</th>\n      <td>99215</td>\n      <td>Дорогие</td>\n    </tr>\n    <tr>\n      <th>22</th>\n      <td>116249</td>\n      <td>Очень дорогие</td>\n    </tr>\n    <tr>\n      <th>23</th>\n      <td>97276</td>\n      <td>Дорогие</td>\n    </tr>\n    <tr>\n      <th>24</th>\n      <td>43216</td>\n      <td>Средние</td>\n    </tr>\n    <tr>\n      <th>25</th>\n      <td>106619</td>\n      <td>Очень дорогие</td>\n    </tr>\n    <tr>\n      <th>26</th>\n      <td>32657</td>\n      <td>Средние</td>\n    </tr>\n    <tr>\n      <th>27</th>\n      <td>38198</td>\n      <td>Средние</td>\n    </tr>\n    <tr>\n      <th>28</th>\n      <td>6513</td>\n      <td>Бюджетные</td>\n    </tr>\n    <tr>\n      <th>29</th>\n      <td>120942</td>\n      <td>Очень дорогие</td>\n    </tr>\n  </tbody>\n</table>\n</div>"
     },
     "metadata": {},
     "execution_count": 122
    }
   ],
   "source": [
    "mobile = pd.read_csv('mobile.csv', sep=\";\")\n",
    "mobile.head(30)"
   ]
  },
  {
   "cell_type": "code",
   "execution_count": 123,
   "metadata": {},
   "outputs": [
    {
     "output_type": "execute_result",
     "data": {
      "text/plain": [
       "(199, 2)"
      ]
     },
     "metadata": {},
     "execution_count": 123
    }
   ],
   "source": [
    "mobile.shape"
   ]
  },
  {
   "cell_type": "code",
   "execution_count": 124,
   "metadata": {},
   "outputs": [],
   "source": [
    "x, y, t_x, t_y = splitter(mobile[['price']], mobile[['type']])"
   ]
  },
  {
   "cell_type": "code",
   "execution_count": 125,
   "metadata": {},
   "outputs": [
    {
     "output_type": "execute_result",
     "data": {
      "text/plain": [
       "(      price\n",
       " 0     37315\n",
       " 1     49039\n",
       " 2     44533\n",
       " 4     85338\n",
       " 5    119476\n",
       " ..      ...\n",
       " 193   31435\n",
       " 195   43918\n",
       " 196   15135\n",
       " 197   11404\n",
       " 198   32679\n",
       " \n",
       " [159 rows x 1 columns],\n",
       "       price\n",
       " 178   34785\n",
       " 72    57086\n",
       " 177  129796\n",
       " 130   63985\n",
       " 192   20872\n",
       " 66    96928\n",
       " 28     6513\n",
       " 88    26408\n",
       " 113   38171\n",
       " 181   81048\n",
       " 149   72458\n",
       " 154   96535\n",
       " 101   11768\n",
       " 141   20349\n",
       " 103   28539\n",
       " 109   41601\n",
       " 104   81774\n",
       " 53    76930\n",
       " 139   64465\n",
       " 102   95372\n",
       " 16    66091\n",
       " 29   120942\n",
       " 129   66668\n",
       " 194  128552\n",
       " 82    66615\n",
       " 175   33591\n",
       " 3     78715\n",
       " 44    25943\n",
       " 131  116166\n",
       " 155  108756\n",
       " 132   85073\n",
       " 45    36702\n",
       " 118   39087\n",
       " 67     7745\n",
       " 90    43961\n",
       " 157   78983\n",
       " 136   44442\n",
       " 32    67427\n",
       " 93    36664\n",
       " 35    40172)"
      ]
     },
     "metadata": {},
     "execution_count": 125
    }
   ],
   "source": [
    "x, t_x"
   ]
  },
  {
   "cell_type": "code",
   "execution_count": 126,
   "metadata": {},
   "outputs": [],
   "source": [
    "m_KNN = KNN(x, y)"
   ]
  },
  {
   "cell_type": "code",
   "execution_count": 131,
   "metadata": {},
   "outputs": [],
   "source": [
    "target1 = m_KNN.predict(t_x, 1)\n",
    "target2 = m_KNN.predict(t_x, 2)\n",
    "target3 = m_KNN.predict(t_x, 5)\n",
    "target4 = m_KNN.predict(t_x, 7)\n",
    "target5 = m_KNN.predict(t_x, 9)\n",
    "target6 = m_KNN.predict(t_x, 11)\n",
    "target7 = m_KNN.predict(t_x, 25)\n"
   ]
  },
  {
   "cell_type": "code",
   "execution_count": 132,
   "metadata": {},
   "outputs": [
    {
     "output_type": "execute_result",
     "data": {
      "text/plain": [
       "array(['Средние', 'Дорогие', 'Средние', 'Дорогие', 'Средние',\n",
       "       'Очень дорогие', 'Средние', 'Средние', 'Средние', 'Дорогие',\n",
       "       'Дорогие', 'Очень дорогие', 'Средние', 'Средние', 'Средние',\n",
       "       'Средние', 'Дорогие', 'Дорогие', 'Дорогие', 'Очень дорогие',\n",
       "       'Дорогие', 'Очень дорогие', 'Дорогие', 'Очень дорогие', 'Дорогие',\n",
       "       'Средние', 'Дорогие', 'Средние', 'Очень дорогие', 'Очень дорогие',\n",
       "       'Дорогие', 'Средние', 'Средние', 'Средние', 'Средние', 'Дорогие',\n",
       "       'Средние', 'Дорогие', 'Средние', 'Средние'], dtype='<U13')"
      ]
     },
     "metadata": {},
     "execution_count": 132
    }
   ],
   "source": [
    "target2"
   ]
  },
  {
   "cell_type": "code",
   "execution_count": 128,
   "metadata": {},
   "outputs": [
    {
     "output_type": "execute_result",
     "data": {
      "text/plain": [
       "array([['Средние'],\n",
       "       ['Средние'],\n",
       "       ['Очень дорогие'],\n",
       "       ['Дорогие'],\n",
       "       ['Средние'],\n",
       "       ['Дорогие'],\n",
       "       ['Бюджетные'],\n",
       "       ['Средние'],\n",
       "       ['Средние'],\n",
       "       ['Дорогие'],\n",
       "       ['Дорогие'],\n",
       "       ['Дорогие'],\n",
       "       ['Бюджетные'],\n",
       "       ['Средние'],\n",
       "       ['Средние'],\n",
       "       ['Средние'],\n",
       "       ['Дорогие'],\n",
       "       ['Дорогие'],\n",
       "       ['Дорогие'],\n",
       "       ['Дорогие'],\n",
       "       ['Дорогие'],\n",
       "       ['Очень дорогие'],\n",
       "       ['Дорогие'],\n",
       "       ['Очень дорогие'],\n",
       "       ['Дорогие'],\n",
       "       ['Средние'],\n",
       "       ['Дорогие'],\n",
       "       ['Средние'],\n",
       "       ['Очень дорогие'],\n",
       "       ['Очень дорогие'],\n",
       "       ['Дорогие'],\n",
       "       ['Средние'],\n",
       "       ['Средние'],\n",
       "       ['Бюджетные'],\n",
       "       ['Средние'],\n",
       "       ['Дорогие'],\n",
       "       ['Средние'],\n",
       "       ['Дорогие'],\n",
       "       ['Средние'],\n",
       "       ['Средние']], dtype=object)"
      ]
     },
     "metadata": {},
     "execution_count": 128
    }
   ],
   "source": [
    "np.array(t_y)"
   ]
  },
  {
   "source": [
    "# Оценка качества классификации"
   ],
   "cell_type": "markdown",
   "metadata": {}
  },
  {
   "cell_type": "code",
   "execution_count": 129,
   "metadata": {},
   "outputs": [],
   "source": [
    "from sklearn.metrics import accuracy_score, balanced_accuracy_score"
   ]
  },
  {
   "cell_type": "code",
   "execution_count": 130,
   "metadata": {},
   "outputs": [
    {
     "output_type": "execute_result",
     "data": {
      "text/plain": [
       "(0.8, 0.8, 0.5, 0.3, 0.425, 0.3, 0.125)"
      ]
     },
     "metadata": {},
     "execution_count": 130
    }
   ],
   "source": [
    "accuracy_score(t_y, target1), accuracy_score(t_y, target2),accuracy_score(t_y, target3), accuracy_score(t_y, target4), accuracy_score(t_y, target5), accuracy_score(t_y, target6), accuracy_score(t_y, target7)"
   ]
  },
  {
   "cell_type": "code",
   "execution_count": null,
   "metadata": {},
   "outputs": [],
   "source": []
  }
 ]
}